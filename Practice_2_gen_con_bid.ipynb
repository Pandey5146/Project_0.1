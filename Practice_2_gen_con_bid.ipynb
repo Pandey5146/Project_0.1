{
 "cells": [
  {
   "cell_type": "code",
   "execution_count": 57,
   "id": "17f0bd28-c1fe-44ae-976f-ad362489da72",
   "metadata": {},
   "outputs": [],
   "source": [
    "import pandas as pd\n",
    "import numpy as np\n",
    "import matplotlib.pyplot as plt\n"
   ]
  },
  {
   "cell_type": "code",
   "execution_count": 61,
   "id": "606b0b75-ea82-4090-ba96-e2c001048901",
   "metadata": {},
   "outputs": [],
   "source": [
    "class Generator:\n",
    "    def __init__(self, name, min_price, max_price, capacity):\n",
    "        self.name = name\n",
    "        self.min_price = min_price\n",
    "        self.max_price = max_price\n",
    "        self.capacity = capacity\n",
    "\n",
    "    def bid(self):\n",
    "        price = np.random.uniform(self.min_price, self.max_price)\n",
    "        quantity = np.random.uniform(0, self.capacity)\n",
    "        return (self.name, price, quantity)\n",
    "\n",
    "class Consumer:\n",
    "    def __init__(self, name, max_price, demand):\n",
    "        self.name = name\n",
    "        self.max_price = max_price\n",
    "        self.demand = demand\n",
    "\n",
    "    def offer(self):\n",
    "        price = np.random.uniform(0, self.max_price)\n",
    "        return (self.name, price, self.demand)"
   ]
  },
  {
   "cell_type": "code",
   "execution_count": 63,
   "id": "01bb1d14-b578-4b63-8435-af0a54178056",
   "metadata": {},
   "outputs": [
    {
     "name": "stdout",
     "output_type": "stream",
     "text": [
      "Generator Bids:\n",
      "   Name      Price   Quantity\n",
      "2  GenC  31.274953  29.096395\n",
      "0  GenA  45.584679  98.831408\n",
      "1  GenB  46.257341  26.831682\n",
      "\n",
      "Consumer Offers:\n",
      "    Name      Price  Demand\n",
      "2  ConsC  67.890804     110\n",
      "1  ConsB  56.658749      90\n",
      "0  ConsA   5.009225      80\n"
     ]
    }
   ],
   "source": [
    "# Create some generators and consumers\n",
    "generators = [\n",
    "    Generator('GenA', 20, 50, 100),\n",
    "    Generator('GenB', 30, 60, 150),\n",
    "    Generator('GenC', 25, 55, 120)\n",
    "]\n",
    "\n",
    "consumers = [\n",
    "    Consumer('ConsA', 70, 80),\n",
    "    Consumer('ConsB', 65, 90),\n",
    "    Consumer('ConsC', 75, 110)\n",
    "]\n",
    "\n",
    "# Collect bids from generators\n",
    "gen_bids = [gen.bid() for gen in generators]\n",
    "gen_bids_df = pd.DataFrame(gen_bids, columns=['Name', 'Price', 'Quantity'])\n",
    "gen_bids_df = gen_bids_df.sort_values(by='Price')\n",
    "\n",
    "# Collect offers from consumers\n",
    "cons_offers = [cons.offer() for cons in consumers]\n",
    "cons_offers_df = pd.DataFrame(cons_offers, columns=['Name', 'Price', 'Demand'])\n",
    "cons_offers_df = cons_offers_df.sort_values(by='Price', ascending=False)\n",
    "\n",
    "print(\"Generator Bids:\")\n",
    "print(gen_bids_df)\n",
    "print(\"\\nConsumer Offers:\")\n",
    "print(cons_offers_df)"
   ]
  },
  {
   "cell_type": "code",
   "execution_count": 65,
   "id": "11824318-5c89-4114-8cfd-4ad4434670b2",
   "metadata": {},
   "outputs": [
    {
     "name": "stdout",
     "output_type": "stream",
     "text": [
      "\n",
      "Market Clearing Price: 46.25734137285791\n",
      "Market Clearing Quantity: 300.68756267715906\n"
     ]
    }
   ],
   "source": [
    "# Function to match bids and offers\n",
    "def match_bids_offers(gen_bids_df, cons_offers_df):\n",
    "    market_price = 0\n",
    "    market_quantity = 0\n",
    "\n",
    "    for i in range(len(cons_offers_df)):\n",
    "        for j in range(len(gen_bids_df)):\n",
    "            if cons_offers_df.iloc[i]['Price'] >= gen_bids_df.iloc[j]['Price']:\n",
    "                transacted_quantity = min(cons_offers_df.iloc[i]['Demand'], gen_bids_df.iloc[j]['Quantity'])\n",
    "                market_price = gen_bids_df.iloc[j]['Price']\n",
    "                market_quantity += transacted_quantity\n",
    "                gen_bids_df.iloc[j]['Quantity'] -= transacted_quantity\n",
    "                cons_offers_df.iloc[i]['Demand'] -= transacted_quantity\n",
    "\n",
    "                if cons_offers_df.iloc[i]['Demand'] == 0:\n",
    "                    break\n",
    "\n",
    "    return market_price, market_quantity\n",
    "\n",
    "market_price, market_quantity = match_bids_offers(gen_bids_df, cons_offers_df)\n",
    "\n",
    "print(f\"\\nMarket Clearing Price: {market_price}\")\n",
    "print(f\"Market Clearing Quantity: {market_quantity}\")"
   ]
  },
  {
   "cell_type": "code",
   "execution_count": 67,
   "id": "66a8101e-ffda-4304-9ecf-03c115a23c1d",
   "metadata": {},
   "outputs": [
    {
     "data": {
      "image/png": "[encoded data removed]",
      "text/plain": [
       "<Figure size 1000x600 with 1 Axes>"
      ]
     },
     "metadata": {},
     "output_type": "display_data"
    }
   ],
   "source": [
    "# Plot the results\n",
    "plt.figure(figsize=(10, 6))\n",
    "plt.step(gen_bids_df['Price'], gen_bids_df['Quantity'].cumsum(), where='post', label='Supply')\n",
    "plt.step(cons_offers_df['Price'], cons_offers_df['Demand'].cumsum(), where='post', label='Demand')\n",
    "plt.axhline(market_quantity, color='gray', linestyle='--')\n",
    "plt.axvline(market_price, color='gray', linestyle='--')\n",
    "plt.xlabel('Price')\n",
    "plt.ylabel('Quantity')\n",
    "plt.title('Electricity Market')\n",
    "plt.legend()\n",
    "plt.grid(True)\n",
    "plt.show()"
   ]
  },
  {
   "cell_type": "code",
   "execution_count": null,
   "id": "446544dd-d356-45d9-b91d-f209940c905d",
   "metadata": {},
   "outputs": [],
   "source": []
  }
 ],
 "metadata": {
  "kernelspec": {
   "display_name": "Python 3 (ipykernel)",
   "language": "python",
   "name": "python3"
  },
  "language_info": {
   "codemirror_mode": {
    "name": "ipython",
    "version": 3
   },
   "file_extension": ".py",
   "mimetype": "text/x-python",
   "name": "python",
   "nbconvert_exporter": "python",
   "pygments_lexer": "ipython3",
   "version": "3.11.7"
  }
 },
 "nbformat": 4,
 "nbformat_minor": 5
}
